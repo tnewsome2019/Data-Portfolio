{
 "cells": [
  {
   "cell_type": "code",
   "execution_count": 213,
   "metadata": {},
   "outputs": [],
   "source": [
    "import requests\n",
    "import time\n",
    "from bs4 import BeautifulSoup\n",
    "from selenium import webdriver\n",
    "from googleapiclient.discovery import build\n",
    "from googleapiclient.errors import HttpError\n",
    "from twilio.rest import Client"
   ]
  },
  {
   "cell_type": "code",
   "execution_count": 214,
   "metadata": {},
   "outputs": [],
   "source": [
    "api_key = 'xxxxxxxxxxxxxxx'"
   ]
  },
  {
   "cell_type": "code",
   "execution_count": 215,
   "metadata": {},
   "outputs": [],
   "source": [
    "def get_video_links(keywords_input, driver_path):\n",
    "    youtube = build('youtube', 'v3', developerKey=api_key)\n",
    "\n",
    "    try:\n",
    "        # Call the search.list method to retrieve results matching the specified\n",
    "        # query term.\n",
    "        search_response = youtube.search().list(\n",
    "            q=keywords_input,\n",
    "            type='video',\n",
    "            part='id,snippet',\n",
    "            maxResults=3\n",
    "        ).execute()\n",
    "\n",
    "        video_links = []\n",
    "        for search_result in search_response.get('items', []):\n",
    "            video_links.append((search_result['snippet']['title'], f\"https://www.youtube.com/watch?v={search_result['id']['videoId']}\"))\n",
    "\n",
    "        return video_links\n",
    "\n",
    "    except HttpError as e:\n",
    "        print(f'An error occurred: {e}')\n",
    "        return []"
   ]
  },
  {
   "cell_type": "code",
   "execution_count": 216,
   "metadata": {},
   "outputs": [
    {
     "name": "stdout",
     "output_type": "stream",
     "text": [
      "Sent SMS with message \n",
      "\"iPhone 14 &amp; iPhone 14 Plus | Hello Yellow | Apple\n",
      "https://www.youtube.com/watch?v=1S8L7t2tu0U\n",
      "\n",
      "iPhone SE 4 - Apple is Changing Everything!\n",
      "https://www.youtube.com/watch?v=A4Y-2kiZWik\n",
      "\n",
      "Apple&#39;s Privacy Paradox (&amp; Selling Out To Ads)\n",
      "https://www.youtube.com/watch?v=4YoquCB7Q9A\n",
      "\n",
      "Search results for \"apple\" on YouTube\"\n",
      "\n"
     ]
    }
   ],
   "source": [
    "# Enter your Twilio account information\n",
    "account_sid = 'AC04938153a101754cbed91f57174c3304'\n",
    "auth_token = 'a313582ad88b7d50490f6887c12d76a6'\n",
    "client = Client(account_sid, auth_token)\n",
    "\n",
    "# Enter the keywords for the YouTube search\n",
    "keywords_input = input(\"Enter keywords: \")\n",
    "\n",
    "keywords_list = keywords_input.split()\n",
    "\n",
    "\n",
    "# Get the top 3 videos for the given keywords\n",
    "video_links = get_video_links(keywords_list, api_key)\n",
    "\n",
    "# Send an SMS with the video titles and URLs\n",
    "message = ''\n",
    "for title, url in video_links:\n",
    "    message += f'{title}\\n{url}\\n\\n'\n",
    "message += f'Search results for \"{keywords_input}\" on YouTube'\n",
    "sms = client.messages.create(\n",
    "    body=message,\n",
    "    from_='+18885998534',\n",
    "    to='+12406407928'\n",
    ")\n",
    "print(f'Sent SMS with message \\n\"{message}\"\\n')"
   ]
  }
 ],
 "metadata": {
  "kernelspec": {
   "display_name": "Python 3",
   "language": "python",
   "name": "python3"
  },
  "language_info": {
   "codemirror_mode": {
    "name": "ipython",
    "version": 3
   },
   "file_extension": ".py",
   "mimetype": "text/x-python",
   "name": "python",
   "nbconvert_exporter": "python",
   "pygments_lexer": "ipython3",
   "version": "3.9.12"
  },
  "orig_nbformat": 4,
  "vscode": {
   "interpreter": {
    "hash": "59eec0dea0812bac45fc6f7bc377cd790148dcaa4647e8bed0df867b83c7bb47"
   }
  }
 },
 "nbformat": 4,
 "nbformat_minor": 2
}
