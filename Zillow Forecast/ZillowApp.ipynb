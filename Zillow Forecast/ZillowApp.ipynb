{
  "nbformat": 4,
  "nbformat_minor": 0,
  "metadata": {
    "colab": {
      "provenance": []
    },
    "kernelspec": {
      "name": "python3",
      "display_name": "Python 3"
    },
    "language_info": {
      "name": "python"
    }
  },
  "cells": [
    {
      "cell_type": "code",
      "execution_count": 1,
      "metadata": {
        "colab": {
          "base_uri": "https://localhost:8080/"
        },
        "id": "V5N2RMSI5R1M",
        "outputId": "aa4e9e2d-37e1-482f-ecce-3b4c1c68b75b",
        "collapsed": true
      },
      "outputs": [
        {
          "output_type": "stream",
          "name": "stdout",
          "text": [
            "Requirement already satisfied: kaggle in /usr/local/lib/python3.11/dist-packages (1.7.4.2)\n",
            "Requirement already satisfied: streamlit in /usr/local/lib/python3.11/dist-packages (1.44.0)\n",
            "Requirement already satisfied: bleach in /usr/local/lib/python3.11/dist-packages (from kaggle) (6.2.0)\n",
            "Requirement already satisfied: certifi>=14.05.14 in /usr/local/lib/python3.11/dist-packages (from kaggle) (2025.1.31)\n",
            "Requirement already satisfied: charset-normalizer in /usr/local/lib/python3.11/dist-packages (from kaggle) (3.4.1)\n",
            "Requirement already satisfied: idna in /usr/local/lib/python3.11/dist-packages (from kaggle) (3.10)\n",
            "Requirement already satisfied: protobuf in /usr/local/lib/python3.11/dist-packages (from kaggle) (5.29.4)\n",
            "Requirement already satisfied: python-dateutil>=2.5.3 in /usr/local/lib/python3.11/dist-packages (from kaggle) (2.8.2)\n",
            "Requirement already satisfied: python-slugify in /usr/local/lib/python3.11/dist-packages (from kaggle) (8.0.4)\n",
            "Requirement already satisfied: requests in /usr/local/lib/python3.11/dist-packages (from kaggle) (2.32.3)\n",
            "Requirement already satisfied: setuptools>=21.0.0 in /usr/local/lib/python3.11/dist-packages (from kaggle) (75.1.0)\n",
            "Requirement already satisfied: six>=1.10 in /usr/local/lib/python3.11/dist-packages (from kaggle) (1.17.0)\n",
            "Requirement already satisfied: text-unidecode in /usr/local/lib/python3.11/dist-packages (from kaggle) (1.3)\n",
            "Requirement already satisfied: tqdm in /usr/local/lib/python3.11/dist-packages (from kaggle) (4.67.1)\n",
            "Requirement already satisfied: urllib3>=1.15.1 in /usr/local/lib/python3.11/dist-packages (from kaggle) (2.3.0)\n",
            "Requirement already satisfied: webencodings in /usr/local/lib/python3.11/dist-packages (from kaggle) (0.5.1)\n",
            "Requirement already satisfied: altair<6,>=4.0 in /usr/local/lib/python3.11/dist-packages (from streamlit) (5.5.0)\n",
            "Requirement already satisfied: blinker<2,>=1.0.0 in /usr/local/lib/python3.11/dist-packages (from streamlit) (1.9.0)\n",
            "Requirement already satisfied: cachetools<6,>=4.0 in /usr/local/lib/python3.11/dist-packages (from streamlit) (5.5.2)\n",
            "Requirement already satisfied: click<9,>=7.0 in /usr/local/lib/python3.11/dist-packages (from streamlit) (8.1.8)\n",
            "Requirement already satisfied: numpy<3,>=1.23 in /usr/local/lib/python3.11/dist-packages (from streamlit) (1.23.5)\n",
            "Requirement already satisfied: packaging<25,>=20 in /usr/local/lib/python3.11/dist-packages (from streamlit) (24.2)\n",
            "Requirement already satisfied: pandas<3,>=1.4.0 in /usr/local/lib/python3.11/dist-packages (from streamlit) (2.2.2)\n",
            "Requirement already satisfied: pillow<12,>=7.1.0 in /usr/local/lib/python3.11/dist-packages (from streamlit) (11.1.0)\n",
            "Requirement already satisfied: pyarrow>=7.0 in /usr/local/lib/python3.11/dist-packages (from streamlit) (18.1.0)\n",
            "Requirement already satisfied: tenacity<10,>=8.1.0 in /usr/local/lib/python3.11/dist-packages (from streamlit) (9.0.0)\n",
            "Requirement already satisfied: toml<2,>=0.10.1 in /usr/local/lib/python3.11/dist-packages (from streamlit) (0.10.2)\n",
            "Requirement already satisfied: typing-extensions<5,>=4.4.0 in /usr/local/lib/python3.11/dist-packages (from streamlit) (4.12.2)\n",
            "Requirement already satisfied: watchdog<7,>=2.1.5 in /usr/local/lib/python3.11/dist-packages (from streamlit) (6.0.0)\n",
            "Requirement already satisfied: gitpython!=3.1.19,<4,>=3.0.7 in /usr/local/lib/python3.11/dist-packages (from streamlit) (3.1.44)\n",
            "Requirement already satisfied: pydeck<1,>=0.8.0b4 in /usr/local/lib/python3.11/dist-packages (from streamlit) (0.9.1)\n",
            "Requirement already satisfied: tornado<7,>=6.0.3 in /usr/local/lib/python3.11/dist-packages (from streamlit) (6.4.2)\n",
            "Requirement already satisfied: jinja2 in /usr/local/lib/python3.11/dist-packages (from altair<6,>=4.0->streamlit) (3.1.6)\n",
            "Requirement already satisfied: jsonschema>=3.0 in /usr/local/lib/python3.11/dist-packages (from altair<6,>=4.0->streamlit) (4.23.0)\n",
            "Requirement already satisfied: narwhals>=1.14.2 in /usr/local/lib/python3.11/dist-packages (from altair<6,>=4.0->streamlit) (1.31.0)\n",
            "Requirement already satisfied: gitdb<5,>=4.0.1 in /usr/local/lib/python3.11/dist-packages (from gitpython!=3.1.19,<4,>=3.0.7->streamlit) (4.0.12)\n",
            "Requirement already satisfied: pytz>=2020.1 in /usr/local/lib/python3.11/dist-packages (from pandas<3,>=1.4.0->streamlit) (2025.1)\n",
            "Requirement already satisfied: tzdata>=2022.7 in /usr/local/lib/python3.11/dist-packages (from pandas<3,>=1.4.0->streamlit) (2025.1)\n",
            "Requirement already satisfied: smmap<6,>=3.0.1 in /usr/local/lib/python3.11/dist-packages (from gitdb<5,>=4.0.1->gitpython!=3.1.19,<4,>=3.0.7->streamlit) (5.0.2)\n",
            "Requirement already satisfied: MarkupSafe>=2.0 in /usr/local/lib/python3.11/dist-packages (from jinja2->altair<6,>=4.0->streamlit) (3.0.2)\n",
            "Requirement already satisfied: attrs>=22.2.0 in /usr/local/lib/python3.11/dist-packages (from jsonschema>=3.0->altair<6,>=4.0->streamlit) (25.3.0)\n",
            "Requirement already satisfied: jsonschema-specifications>=2023.03.6 in /usr/local/lib/python3.11/dist-packages (from jsonschema>=3.0->altair<6,>=4.0->streamlit) (2024.10.1)\n",
            "Requirement already satisfied: referencing>=0.28.4 in /usr/local/lib/python3.11/dist-packages (from jsonschema>=3.0->altair<6,>=4.0->streamlit) (0.36.2)\n",
            "Requirement already satisfied: rpds-py>=0.7.1 in /usr/local/lib/python3.11/dist-packages (from jsonschema>=3.0->altair<6,>=4.0->streamlit) (0.23.1)\n"
          ]
        }
      ],
      "source": [
        "!pip3 install kaggle streamlit"
      ]
    },
    {
      "cell_type": "code",
      "source": [
        "#!pip uninstall -y matplotlib numpy\n",
        "!pip3 install --no-cache-dir matplotlib==3.8.0 numpy==1.23.5"
      ],
      "metadata": {
        "id": "i7A8gejbNEAK",
        "colab": {
          "base_uri": "https://localhost:8080/"
        },
        "outputId": "149fae6e-b64c-4fbf-edd7-eb012018fc01"
      },
      "execution_count": 2,
      "outputs": [
        {
          "output_type": "stream",
          "name": "stdout",
          "text": [
            "Requirement already satisfied: matplotlib==3.8.0 in /usr/local/lib/python3.11/dist-packages (3.8.0)\n",
            "Requirement already satisfied: numpy==1.23.5 in /usr/local/lib/python3.11/dist-packages (1.23.5)\n",
            "Requirement already satisfied: contourpy>=1.0.1 in /usr/local/lib/python3.11/dist-packages (from matplotlib==3.8.0) (1.3.1)\n",
            "Requirement already satisfied: cycler>=0.10 in /usr/local/lib/python3.11/dist-packages (from matplotlib==3.8.0) (0.12.1)\n",
            "Requirement already satisfied: fonttools>=4.22.0 in /usr/local/lib/python3.11/dist-packages (from matplotlib==3.8.0) (4.56.0)\n",
            "Requirement already satisfied: kiwisolver>=1.0.1 in /usr/local/lib/python3.11/dist-packages (from matplotlib==3.8.0) (1.4.8)\n",
            "Requirement already satisfied: packaging>=20.0 in /usr/local/lib/python3.11/dist-packages (from matplotlib==3.8.0) (24.2)\n",
            "Requirement already satisfied: pillow>=6.2.0 in /usr/local/lib/python3.11/dist-packages (from matplotlib==3.8.0) (11.1.0)\n",
            "Requirement already satisfied: pyparsing>=2.3.1 in /usr/local/lib/python3.11/dist-packages (from matplotlib==3.8.0) (3.2.1)\n",
            "Requirement already satisfied: python-dateutil>=2.7 in /usr/local/lib/python3.11/dist-packages (from matplotlib==3.8.0) (2.8.2)\n",
            "Requirement already satisfied: six>=1.5 in /usr/local/lib/python3.11/dist-packages (from python-dateutil>=2.7->matplotlib==3.8.0) (1.17.0)\n"
          ]
        }
      ]
    },
    {
      "cell_type": "code",
      "source": [
        "import kagglehub\n",
        "import pandas as pd\n",
        "import os\n",
        "import pickle\n",
        "import streamlit as st\n",
        "import matplotlib.pyplot as plt\n",
        "from sklearn.ensemble import RandomForestRegressor\n",
        "from sklearn.metrics import mean_squared_error"
      ],
      "metadata": {
        "id": "Arte9YeiVUks"
      },
      "execution_count": 3,
      "outputs": []
    },
    {
      "cell_type": "code",
      "source": [
        "import matplotlib._api.deprecation\n",
        "matplotlib._api.deprecation.mplDeprecation = DeprecationWarning"
      ],
      "metadata": {
        "id": "2F06on_OWTN2"
      },
      "execution_count": 4,
      "outputs": []
    },
    {
      "cell_type": "code",
      "source": [
        "# Download Zillow dataset\n",
        "path = kagglehub.dataset_download(\"zillow/zecon\")\n",
        "data_path = os.path.join(path, \"State_time_series.csv\")\n",
        "\n",
        "df = pd.read_csv(data_path)\n",
        "print(\"Available columns:\", df.columns.tolist())\n",
        "print(\"First 5 rows:\\n\", df.head())\n",
        "print(\"Unique RegionNames:\", df['RegionName'].unique().tolist())\n"
      ],
      "metadata": {
        "colab": {
          "base_uri": "https://localhost:8080/"
        },
        "collapsed": true,
        "id": "xLKBd-lhveY2",
        "outputId": "08f89d7f-4d6d-4c11-ca01-2112ab437b76"
      },
      "execution_count": 5,
      "outputs": [
        {
          "output_type": "stream",
          "name": "stdout",
          "text": [
            "Downloading from https://www.kaggle.com/api/v1/datasets/download/zillow/zecon?dataset_version_number=6...\n"
          ]
        },
        {
          "output_type": "stream",
          "name": "stderr",
          "text": [
            "100%|██████████| 511M/511M [00:09<00:00, 54.5MB/s]"
          ]
        },
        {
          "output_type": "stream",
          "name": "stdout",
          "text": [
            "Extracting files...\n"
          ]
        },
        {
          "output_type": "stream",
          "name": "stderr",
          "text": [
            "\n"
          ]
        },
        {
          "output_type": "stream",
          "name": "stdout",
          "text": [
            "Available columns: ['Date', 'RegionName', 'DaysOnZillow_AllHomes', 'InventorySeasonallyAdjusted_AllHomes', 'InventoryRaw_AllHomes', 'MedianListingPricePerSqft_1Bedroom', 'MedianListingPricePerSqft_2Bedroom', 'MedianListingPricePerSqft_3Bedroom', 'MedianListingPricePerSqft_4Bedroom', 'MedianListingPricePerSqft_5BedroomOrMore', 'MedianListingPricePerSqft_AllHomes', 'MedianListingPricePerSqft_CondoCoop', 'MedianListingPricePerSqft_DuplexTriplex', 'MedianListingPricePerSqft_SingleFamilyResidence', 'MedianListingPrice_1Bedroom', 'MedianListingPrice_2Bedroom', 'MedianListingPrice_3Bedroom', 'MedianListingPrice_4Bedroom', 'MedianListingPrice_5BedroomOrMore', 'MedianListingPrice_AllHomes', 'MedianListingPrice_CondoCoop', 'MedianListingPrice_DuplexTriplex', 'MedianListingPrice_SingleFamilyResidence', 'MedianPctOfPriceReduction_AllHomes', 'MedianPctOfPriceReduction_CondoCoop', 'MedianPctOfPriceReduction_SingleFamilyResidence', 'MedianPriceCutDollar_AllHomes', 'MedianPriceCutDollar_CondoCoop', 'MedianPriceCutDollar_SingleFamilyResidence', 'MedianRentalPricePerSqft_1Bedroom', 'MedianRentalPricePerSqft_2Bedroom', 'MedianRentalPricePerSqft_3Bedroom', 'MedianRentalPricePerSqft_4Bedroom', 'MedianRentalPricePerSqft_5BedroomOrMore', 'MedianRentalPricePerSqft_AllHomes', 'MedianRentalPricePerSqft_CondoCoop', 'MedianRentalPricePerSqft_DuplexTriplex', 'MedianRentalPricePerSqft_MultiFamilyResidence5PlusUnits', 'MedianRentalPricePerSqft_SingleFamilyResidence', 'MedianRentalPricePerSqft_Studio', 'MedianRentalPrice_1Bedroom', 'MedianRentalPrice_2Bedroom', 'MedianRentalPrice_3Bedroom', 'MedianRentalPrice_4Bedroom', 'MedianRentalPrice_5BedroomOrMore', 'MedianRentalPrice_AllHomes', 'MedianRentalPrice_CondoCoop', 'MedianRentalPrice_DuplexTriplex', 'MedianRentalPrice_MultiFamilyResidence5PlusUnits', 'MedianRentalPrice_SingleFamilyResidence', 'MedianRentalPrice_Studio', 'ZHVIPerSqft_AllHomes', 'PctOfHomesDecreasingInValues_AllHomes', 'PctOfHomesIncreasingInValues_AllHomes', 'PctOfHomesSellingForGain_AllHomes', 'PctOfHomesSellingForLoss_AllHomes', 'PctOfListingsWithPriceReductionsSeasAdj_AllHomes', 'PctOfListingsWithPriceReductionsSeasAdj_CondoCoop', 'PctOfListingsWithPriceReductionsSeasAdj_SingleFamilyResidence', 'PctOfListingsWithPriceReductions_AllHomes', 'PctOfListingsWithPriceReductions_CondoCoop', 'PctOfListingsWithPriceReductions_SingleFamilyResidence', 'PriceToRentRatio_AllHomes', 'Sale_Counts', 'Sale_Counts_Seas_Adj', 'Sale_Prices', 'ZHVI_1bedroom', 'ZHVI_2bedroom', 'ZHVI_3bedroom', 'ZHVI_4bedroom', 'ZHVI_5BedroomOrMore', 'ZHVI_AllHomes', 'ZHVI_BottomTier', 'ZHVI_CondoCoop', 'ZHVI_MiddleTier', 'ZHVI_SingleFamilyResidence', 'ZHVI_TopTier', 'ZRI_AllHomes', 'ZRI_AllHomesPlusMultifamily', 'ZriPerSqft_AllHomes', 'Zri_MultiFamilyResidenceRental', 'Zri_SingleFamilyResidenceRental']\n",
            "First 5 rows:\n",
            "          Date  RegionName  DaysOnZillow_AllHomes  \\\n",
            "0  1996-04-30     Alabama                    NaN   \n",
            "1  1996-04-30     Arizona                    NaN   \n",
            "2  1996-04-30    Arkansas                    NaN   \n",
            "3  1996-04-30  California                    NaN   \n",
            "4  1996-04-30    Colorado                    NaN   \n",
            "\n",
            "   InventorySeasonallyAdjusted_AllHomes  InventoryRaw_AllHomes  \\\n",
            "0                                   NaN                    NaN   \n",
            "1                                   NaN                    NaN   \n",
            "2                                   NaN                    NaN   \n",
            "3                                   NaN                    NaN   \n",
            "4                                   NaN                    NaN   \n",
            "\n",
            "   MedianListingPricePerSqft_1Bedroom  MedianListingPricePerSqft_2Bedroom  \\\n",
            "0                                 NaN                                 NaN   \n",
            "1                                 NaN                                 NaN   \n",
            "2                                 NaN                                 NaN   \n",
            "3                                 NaN                                 NaN   \n",
            "4                                 NaN                                 NaN   \n",
            "\n",
            "   MedianListingPricePerSqft_3Bedroom  MedianListingPricePerSqft_4Bedroom  \\\n",
            "0                                 NaN                                 NaN   \n",
            "1                                 NaN                                 NaN   \n",
            "2                                 NaN                                 NaN   \n",
            "3                                 NaN                                 NaN   \n",
            "4                                 NaN                                 NaN   \n",
            "\n",
            "   MedianListingPricePerSqft_5BedroomOrMore  ...  ZHVI_BottomTier  \\\n",
            "0                                       NaN  ...          45600.0   \n",
            "1                                       NaN  ...          67100.0   \n",
            "2                                       NaN  ...          38400.0   \n",
            "3                                       NaN  ...          95100.0   \n",
            "4                                       NaN  ...          82700.0   \n",
            "\n",
            "   ZHVI_CondoCoop  ZHVI_MiddleTier  ZHVI_SingleFamilyResidence  ZHVI_TopTier  \\\n",
            "0         99500.0          79500.0                     79000.0      140200.0   \n",
            "1         78900.0         103600.0                    107500.0      168700.0   \n",
            "2         70300.0          64400.0                     64500.0      115200.0   \n",
            "3        136100.0         157900.0                    162000.0      270600.0   \n",
            "4         99400.0         128100.0                    133600.0      209300.0   \n",
            "\n",
            "   ZRI_AllHomes  ZRI_AllHomesPlusMultifamily  ZriPerSqft_AllHomes  \\\n",
            "0           NaN                          NaN                  NaN   \n",
            "1           NaN                          NaN                  NaN   \n",
            "2           NaN                          NaN                  NaN   \n",
            "3           NaN                          NaN                  NaN   \n",
            "4           NaN                          NaN                  NaN   \n",
            "\n",
            "   Zri_MultiFamilyResidenceRental  Zri_SingleFamilyResidenceRental  \n",
            "0                             NaN                              NaN  \n",
            "1                             NaN                              NaN  \n",
            "2                             NaN                              NaN  \n",
            "3                             NaN                              NaN  \n",
            "4                             NaN                              NaN  \n",
            "\n",
            "[5 rows x 82 columns]\n",
            "Unique RegionNames: ['Alabama', 'Arizona', 'Arkansas', 'California', 'Colorado', 'Connecticut', 'Delaware', 'Florida', 'Georgia', 'Hawaii', 'Idaho', 'Illinois', 'Indiana', 'Iowa', 'Kansas', 'Kentucky', 'Louisiana', 'Maine', 'Maryland', 'Massachusetts', 'Michigan', 'Minnesota', 'Mississippi', 'Missouri', 'Nebraska', 'Nevada', 'NewHampshire', 'NewJersey', 'NewMexico', 'NewYork', 'NorthCarolina', 'Ohio', 'Oklahoma', 'Oregon', 'Pennsylvania', 'RhodeIsland', 'SouthCarolina', 'Tennessee', 'Texas', 'Utah', 'Virginia', 'Washington', 'WestVirginia', 'Wisconsin', 'SouthDakota', 'Vermont', 'Alaska', 'Montana', 'Wyoming', 'DistrictofColumbia', 'NorthDakota', 'UnitedStates']\n"
          ]
        }
      ]
    },
    {
      "cell_type": "code",
      "source": [
        "# Format the file path for Snowflake PUT command\n",
        "snowflake_file_path = f\"file://{data_path}\"\n",
        "\n",
        "print(f\"PUT {snowflake_file_path} @my_stage;\")"
      ],
      "metadata": {
        "colab": {
          "base_uri": "https://localhost:8080/"
        },
        "id": "cQjLDwvg2Hd_",
        "outputId": "9ee359f3-af1b-483f-a622-fa79f61c2860"
      },
      "execution_count": 6,
      "outputs": [
        {
          "output_type": "stream",
          "name": "stdout",
          "text": [
            "PUT file:///root/.cache/kagglehub/datasets/zillow/zecon/versions/6/State_time_series.csv @my_stage;\n"
          ]
        }
      ]
    },
    {
      "cell_type": "code",
      "source": [
        "import os\n",
        "\n",
        "file_path = '/root/.cache/kagglehub/datasets/zillow/zecon/versions/6/State_time_series.csv'\n",
        "print(f\"File exists: {os.path.exists(file_path)}\")"
      ],
      "metadata": {
        "colab": {
          "base_uri": "https://localhost:8080/"
        },
        "id": "VqlWdt_sCAEy",
        "outputId": "27bfb17c-a70d-46a1-84a9-b286a00bf799"
      },
      "execution_count": 7,
      "outputs": [
        {
          "output_type": "stream",
          "name": "stdout",
          "text": [
            "File exists: True\n"
          ]
        }
      ]
    },
    {
      "cell_type": "code",
      "source": [
        "# Ensure correct state naming\n",
        "states = ['DistrictofColumbia', 'Maryland', 'Virginia']\n",
        "models = {}\n"
      ],
      "metadata": {
        "id": "aylR4qEyvgpX"
      },
      "execution_count": 8,
      "outputs": []
    },
    {
      "cell_type": "code",
      "source": [
        "for state in states:\n",
        "    state_df = df[df['RegionName'] == state][['Date', 'Sale_Prices']].dropna()\n",
        "    if state_df.empty:\n",
        "        print(f\"No data for {state}\")\n",
        "        continue\n",
        "\n",
        "    state_df['Date'] = pd.to_datetime(state_df['Date'])\n",
        "    state_df = state_df.sort_values('Date')\n",
        "    state_df['LagPrice'] = state_df['Sale_Prices'].shift(1)\n",
        "\n",
        "    train = state_df.iloc[:-12]\n",
        "    test = state_df.iloc[-12:]\n",
        "\n",
        "    if train.empty or test.empty:\n",
        "        print(f\"Not enough data for {state}\")\n",
        "        continue\n",
        "\n",
        "    X_train, y_train = train[['LagPrice']].fillna(train['LagPrice'].mean()), train['Sale_Prices']\n",
        "    X_test, y_test = test[['LagPrice']].fillna(test['LagPrice'].mean()), test['Sale_Prices']\n",
        "\n",
        "    model = RandomForestRegressor(n_estimators=100, random_state=42)\n",
        "    model.fit(X_train, y_train)\n",
        "\n",
        "    mse = mean_squared_error(y_test, model.predict(X_test))\n",
        "    print(f\"{state} MSE: ${mse:,.2f}\")\n",
        "    models[state] = model\n",
        "    state_df.to_csv(f\"{state.replace(' ', '_')}_history.csv\", index=False)\n",
        "\n",
        "#"
      ],
      "metadata": {
        "colab": {
          "base_uri": "https://localhost:8080/"
        },
        "id": "KOX3q1MCv5K1",
        "outputId": "7d4850de-e0ac-4caf-a5b3-c204cc68222f"
      },
      "execution_count": 9,
      "outputs": [
        {
          "output_type": "stream",
          "name": "stdout",
          "text": [
            "DistrictofColumbia MSE: $71,792,168.33\n",
            "Maryland MSE: $48,450,674.25\n",
            "Virginia MSE: $24,848,677.27\n"
          ]
        }
      ]
    },
    {
      "cell_type": "code",
      "source": [
        "# Save models\n",
        "for state, model in models.items():\n",
        "    filename = f\"rf_model_{state.lower().replace(' ', '_')}.pkl\"\n",
        "    with open(filename, \"wb\") as f:\n",
        "        pickle.dump(model, f)\n",
        "    print(f\"Saved model for {state} to {filename}\")"
      ],
      "metadata": {
        "colab": {
          "base_uri": "https://localhost:8080/"
        },
        "id": "Nxlw3f-GfrOk",
        "outputId": "91fafd4d-c9bd-4230-8969-d1e4b5962ae6"
      },
      "execution_count": 10,
      "outputs": [
        {
          "output_type": "stream",
          "name": "stdout",
          "text": [
            "Saved model for DistrictofColumbia to rf_model_districtofcolumbia.pkl\n",
            "Saved model for Maryland to rf_model_maryland.pkl\n",
            "Saved model for Virginia to rf_model_virginia.pkl\n"
          ]
        }
      ]
    },
    {
      "cell_type": "code",
      "source": [
        "# Streamlit App\n",
        "st.set_page_config(page_title=\"Zillow DMV Forecast\", page_icon=\"🏡\", layout=\"wide\")\n",
        "st.title(\"🏡 Zillow DMV Market Forecast\")\n",
        "st.markdown(\"### Predict Median Sale Prices in the DMV Region!\")\n",
        "st.write(\"Forecast housing prices for D.C., Maryland, and Virginia with Zillow data.\")\n",
        "\n"
      ],
      "metadata": {
        "colab": {
          "base_uri": "https://localhost:8080/"
        },
        "collapsed": true,
        "id": "HRJtXM1zwCSx",
        "outputId": "a2c2b332-48e8-4cf0-ee86-ea109d1f81df"
      },
      "execution_count": 11,
      "outputs": [
        {
          "output_type": "stream",
          "name": "stderr",
          "text": [
            "2025-03-26 00:03:39.858 WARNING streamlit.runtime.scriptrunner_utils.script_run_context: Thread 'MainThread': missing ScriptRunContext! This warning can be ignored when running in bare mode.\n",
            "2025-03-26 00:03:39.860 WARNING streamlit.runtime.scriptrunner_utils.script_run_context: Thread 'MainThread': missing ScriptRunContext! This warning can be ignored when running in bare mode.\n",
            "2025-03-26 00:03:40.023 \n",
            "  \u001b[33m\u001b[1mWarning:\u001b[0m to view this Streamlit app on a browser, run it with the following\n",
            "  command:\n",
            "\n",
            "    streamlit run /usr/local/lib/python3.11/dist-packages/colab_kernel_launcher.py [ARGUMENTS]\n",
            "2025-03-26 00:03:40.036 Thread 'MainThread': missing ScriptRunContext! This warning can be ignored when running in bare mode.\n",
            "2025-03-26 00:03:40.045 Thread 'MainThread': missing ScriptRunContext! This warning can be ignored when running in bare mode.\n",
            "2025-03-26 00:03:40.046 Thread 'MainThread': missing ScriptRunContext! This warning can be ignored when running in bare mode.\n",
            "2025-03-26 00:03:40.048 Thread 'MainThread': missing ScriptRunContext! This warning can be ignored when running in bare mode.\n",
            "2025-03-26 00:03:40.049 Thread 'MainThread': missing ScriptRunContext! This warning can be ignored when running in bare mode.\n",
            "2025-03-26 00:03:40.052 Thread 'MainThread': missing ScriptRunContext! This warning can be ignored when running in bare mode.\n",
            "2025-03-26 00:03:40.052 Thread 'MainThread': missing ScriptRunContext! This warning can be ignored when running in bare mode.\n"
          ]
        }
      ]
    },
    {
      "cell_type": "code",
      "source": [
        "# Load history\n",
        "data_file = f\"{state.replace(' ', '_')}_history.csv\"\n",
        "try:\n",
        "    history_df = pd.read_csv(data_file)\n",
        "    history_df['Date'] = pd.to_datetime(history_df['Date'])\n",
        "except FileNotFoundError:\n",
        "    st.warning(f\"History file '{data_file}' not found. Historical trend unavailable.\")\n",
        "    history_df = pd.DataFrame()\n",
        "\n",
        "# Input\n",
        "st.subheader(\"Set Your Input\")\n",
        "lag_price = st.slider(\n",
        "    \"Last Month’s Median Sale Price ($)\",\n",
        "    min_value=int(history_df['Sale_Prices'].min()) if not history_df.empty else 100000,\n",
        "    max_value=int(history_df['Sale_Prices'].max()) if not history_df.empty else 1500000,\n",
        "    value=int(history_df['Sale_Prices'].iloc[-1]) if not history_df.empty else 500000,\n",
        "    step=10000,\n",
        "    format=\"$%d\"\n",
        ")\n",
        "\n",
        "# Prediction\n",
        "input_data = pd.DataFrame([[lag_price]], columns=['LagPrice'])\n",
        "prediction = model.predict(input_data)[0]\n",
        "conf_low, conf_high = prediction * 0.9, prediction * 1.1\n",
        "\n",
        "# Display forecast\n",
        "st.subheader(\"Forecast Result\")\n",
        "col1, col2 = st.columns(2)\n",
        "with col1:\n",
        "    st.metric(\"Last Month\", f\"${lag_price:,.0f}\")\n",
        "with col2:\n",
        "    st.metric(\"Next Month Prediction\", f\"${prediction:,.0f}\", delta=f\"${prediction - lag_price:,.0f}\")\n",
        "st.write(f\"Confidence Range: ${conf_low:,.0f} - ${conf_high:,.0f}\")\n"
      ],
      "metadata": {
        "colab": {
          "base_uri": "https://localhost:8080/"
        },
        "id": "h0cFl8-4wEFi",
        "outputId": "0a90da75-cf86-4a14-ea67-0c71e2a26a5d"
      },
      "execution_count": 12,
      "outputs": [
        {
          "output_type": "stream",
          "name": "stderr",
          "text": [
            "2025-03-26 00:03:40.084 Thread 'MainThread': missing ScriptRunContext! This warning can be ignored when running in bare mode.\n",
            "2025-03-26 00:03:40.089 Thread 'MainThread': missing ScriptRunContext! This warning can be ignored when running in bare mode.\n",
            "2025-03-26 00:03:40.094 Thread 'MainThread': missing ScriptRunContext! This warning can be ignored when running in bare mode.\n",
            "2025-03-26 00:03:40.097 Thread 'MainThread': missing ScriptRunContext! This warning can be ignored when running in bare mode.\n",
            "2025-03-26 00:03:40.098 Thread 'MainThread': missing ScriptRunContext! This warning can be ignored when running in bare mode.\n",
            "2025-03-26 00:03:40.102 Thread 'MainThread': missing ScriptRunContext! This warning can be ignored when running in bare mode.\n",
            "2025-03-26 00:03:40.111 Thread 'MainThread': missing ScriptRunContext! This warning can be ignored when running in bare mode.\n",
            "2025-03-26 00:03:40.191 Thread 'MainThread': missing ScriptRunContext! This warning can be ignored when running in bare mode.\n",
            "2025-03-26 00:03:40.200 Thread 'MainThread': missing ScriptRunContext! This warning can be ignored when running in bare mode.\n",
            "2025-03-26 00:03:40.205 Thread 'MainThread': missing ScriptRunContext! This warning can be ignored when running in bare mode.\n",
            "2025-03-26 00:03:40.207 Thread 'MainThread': missing ScriptRunContext! This warning can be ignored when running in bare mode.\n",
            "2025-03-26 00:03:40.208 Thread 'MainThread': missing ScriptRunContext! This warning can be ignored when running in bare mode.\n",
            "2025-03-26 00:03:40.210 Thread 'MainThread': missing ScriptRunContext! This warning can be ignored when running in bare mode.\n",
            "2025-03-26 00:03:40.211 Thread 'MainThread': missing ScriptRunContext! This warning can be ignored when running in bare mode.\n",
            "2025-03-26 00:03:40.213 Thread 'MainThread': missing ScriptRunContext! This warning can be ignored when running in bare mode.\n",
            "2025-03-26 00:03:40.214 Thread 'MainThread': missing ScriptRunContext! This warning can be ignored when running in bare mode.\n",
            "2025-03-26 00:03:40.216 Thread 'MainThread': missing ScriptRunContext! This warning can be ignored when running in bare mode.\n",
            "2025-03-26 00:03:40.219 Thread 'MainThread': missing ScriptRunContext! This warning can be ignored when running in bare mode.\n",
            "2025-03-26 00:03:40.224 Thread 'MainThread': missing ScriptRunContext! This warning can be ignored when running in bare mode.\n",
            "2025-03-26 00:03:40.227 Thread 'MainThread': missing ScriptRunContext! This warning can be ignored when running in bare mode.\n"
          ]
        }
      ]
    },
    {
      "cell_type": "code",
      "source": [
        "!pip3 install numpy==1.26.4"
      ],
      "metadata": {
        "colab": {
          "base_uri": "https://localhost:8080/"
        },
        "id": "ogNNy1HaOsAm",
        "outputId": "984cd933-8a80-43c8-e6e1-f4cd717aad80"
      },
      "execution_count": 13,
      "outputs": [
        {
          "output_type": "stream",
          "name": "stdout",
          "text": [
            "Collecting numpy==1.26.4\n",
            "  Downloading numpy-1.26.4-cp311-cp311-manylinux_2_17_x86_64.manylinux2014_x86_64.whl.metadata (61 kB)\n",
            "\u001b[2K     \u001b[90m━━━━━━━━━━━━━━━━━━━━━━━━━━━━━━━━━━━━━━━━\u001b[0m \u001b[32m61.0/61.0 kB\u001b[0m \u001b[31m3.7 MB/s\u001b[0m eta \u001b[36m0:00:00\u001b[0m\n",
            "\u001b[?25hDownloading numpy-1.26.4-cp311-cp311-manylinux_2_17_x86_64.manylinux2014_x86_64.whl (18.3 MB)\n",
            "\u001b[2K   \u001b[90m━━━━━━━━━━━━━━━━━━━━━━━━━━━━━━━━━━━━━━━━\u001b[0m \u001b[32m18.3/18.3 MB\u001b[0m \u001b[31m56.3 MB/s\u001b[0m eta \u001b[36m0:00:00\u001b[0m\n",
            "\u001b[?25hInstalling collected packages: numpy\n",
            "  Attempting uninstall: numpy\n",
            "    Found existing installation: numpy 1.23.5\n",
            "    Uninstalling numpy-1.23.5:\n",
            "      Successfully uninstalled numpy-1.23.5\n",
            "Successfully installed numpy-1.26.4\n"
          ]
        }
      ]
    },
    {
      "cell_type": "code",
      "source": [
        "# Historical trend\n",
        "\n",
        "st.sidebar.header(\"DMV Options\")\n",
        "available_states = [\"Maryland\", \"Virginia\", \"District of Columbia\"]\n",
        "state = st.sidebar.selectbox(\"Select DMV Area\", available_states, index=0)\n",
        "show_history = st.sidebar.checkbox(\"Show Historical Trend\", value=True)  # <--- Ensure this exists'\n",
        "\n",
        "if show_history and not history_df.empty:\n",
        "    st.subheader(f\"{state} Price Trend\")\n",
        "    plot_df = pd.concat([\n",
        "        history_df.tail(5),\n",
        "        pd.DataFrame({'Date': [history_df['Date'].iloc[-1], pd.Timestamp('2025-04-01')], 'Sale_Prices': [lag_price, prediction]})\n",
        "    ])\n",
        "    fig, ax = plt.subplots(figsize=(10, 5))\n",
        "    ax.plot(plot_df['Date'], plot_df['Sale_Prices'], marker='o', color='#1f77b4', label='Actual + Forecast')\n",
        "    ax.axvline(history_df['Date'].iloc[-1], color='gray', linestyle='--', alpha=0.5, label='Forecast Start')\n",
        "    ax.fill_between([plot_df['Date'].iloc[-2], plot_df['Date'].iloc[-1]], [lag_price, conf_low], [lag_price, conf_high], color='#1f77b4', alpha=0.1, label='Confidence')\n",
        "    ax.set_ylabel(\"Price ($)\")\n",
        "    ax.legend()\n",
        "    ax.grid(True, linestyle='--', alpha=0.7)\n",
        "    plt.xticks(rotation=45)\n",
        "    st.pyplot(fig)\n",
        "\n",
        "st.markdown(\"---\")\n",
        "st.write(\"✨ Forecast generated on March 14, 2025. Data from Zillow via kagglehub.\")\n"
      ],
      "metadata": {
        "colab": {
          "base_uri": "https://localhost:8080/",
          "height": 900
        },
        "id": "k19lyWPtwSOA",
        "outputId": "ec5329e0-924e-4a5f-a3f8-7e0e8c5cd8ac"
      },
      "execution_count": 14,
      "outputs": [
        {
          "output_type": "stream",
          "name": "stderr",
          "text": [
            "2025-03-26 00:03:56.531 Thread 'MainThread': missing ScriptRunContext! This warning can be ignored when running in bare mode.\n",
            "2025-03-26 00:03:56.532 Thread 'MainThread': missing ScriptRunContext! This warning can be ignored when running in bare mode.\n",
            "2025-03-26 00:03:56.536 Thread 'MainThread': missing ScriptRunContext! This warning can be ignored when running in bare mode.\n",
            "2025-03-26 00:03:56.537 Thread 'MainThread': missing ScriptRunContext! This warning can be ignored when running in bare mode.\n",
            "2025-03-26 00:03:56.540 Thread 'MainThread': missing ScriptRunContext! This warning can be ignored when running in bare mode.\n",
            "2025-03-26 00:03:56.542 Thread 'MainThread': missing ScriptRunContext! This warning can be ignored when running in bare mode.\n",
            "2025-03-26 00:03:56.544 Session state does not function when running a script without `streamlit run`\n",
            "2025-03-26 00:03:56.546 Thread 'MainThread': missing ScriptRunContext! This warning can be ignored when running in bare mode.\n",
            "2025-03-26 00:03:56.548 Thread 'MainThread': missing ScriptRunContext! This warning can be ignored when running in bare mode.\n",
            "2025-03-26 00:03:56.550 Thread 'MainThread': missing ScriptRunContext! This warning can be ignored when running in bare mode.\n",
            "2025-03-26 00:03:56.552 Thread 'MainThread': missing ScriptRunContext! This warning can be ignored when running in bare mode.\n",
            "2025-03-26 00:03:56.553 Thread 'MainThread': missing ScriptRunContext! This warning can be ignored when running in bare mode.\n",
            "2025-03-26 00:03:56.556 Thread 'MainThread': missing ScriptRunContext! This warning can be ignored when running in bare mode.\n",
            "2025-03-26 00:03:56.557 Thread 'MainThread': missing ScriptRunContext! This warning can be ignored when running in bare mode.\n",
            "2025-03-26 00:03:56.560 Thread 'MainThread': missing ScriptRunContext! This warning can be ignored when running in bare mode.\n",
            "2025-03-26 00:03:56.562 Thread 'MainThread': missing ScriptRunContext! This warning can be ignored when running in bare mode.\n",
            "2025-03-26 00:03:56.647 Thread 'MainThread': missing ScriptRunContext! This warning can be ignored when running in bare mode.\n",
            "2025-03-26 00:03:57.574 Thread 'MainThread': missing ScriptRunContext! This warning can be ignored when running in bare mode.\n",
            "2025-03-26 00:03:57.577 Thread 'MainThread': missing ScriptRunContext! This warning can be ignored when running in bare mode.\n",
            "2025-03-26 00:03:57.578 Thread 'MainThread': missing ScriptRunContext! This warning can be ignored when running in bare mode.\n",
            "2025-03-26 00:03:57.580 Thread 'MainThread': missing ScriptRunContext! This warning can be ignored when running in bare mode.\n",
            "2025-03-26 00:03:57.581 Thread 'MainThread': missing ScriptRunContext! This warning can be ignored when running in bare mode.\n",
            "2025-03-26 00:03:57.583 Thread 'MainThread': missing ScriptRunContext! This warning can be ignored when running in bare mode.\n",
            "2025-03-26 00:03:57.584 Thread 'MainThread': missing ScriptRunContext! This warning can be ignored when running in bare mode.\n",
            "2025-03-26 00:03:57.585 Thread 'MainThread': missing ScriptRunContext! This warning can be ignored when running in bare mode.\n"
          ]
        },
        {
          "output_type": "display_data",
          "data": {
            "text/plain": [
              "<Figure size 1000x500 with 1 Axes>"
            ],
            "image/png": "[encoded data removed]"
          },
          "metadata": {}
        }
      ]
    },
    {
      "cell_type": "code",
      "source": [
        "with open(\"app.py\", \"w\") as f:\n",
        "    f.write(\"\"\"\n",
        "import streamlit as st\n",
        "import pandas as pd\n",
        "import pickle\n",
        "import os\n",
        "import matplotlib.pyplot as plt\n",
        "\n",
        "# Streamlit App\n",
        "st.set_page_config(page_title=\"Zillow DMV Forecast\", page_icon=\"🏡\", layout=\"wide\")\n",
        "st.title(\"🏡 Zillow DMV Market Forecast\")\n",
        "st.markdown(\"### Predict Median Sale Prices in the DMV Region!\")\n",
        "st.write(\"Forecast housing prices for D.C., Maryland, and Virginia with Zillow data.\")\n",
        "\n",
        "# Sidebar\n",
        "st.sidebar.header(\"DMV Options\")\n",
        "available_states = [\"District of Columbia\", \"Maryland\", \"Virginia\"]\n",
        "state = st.sidebar.selectbox(\"Select DMV Area\", available_states, index=0)\n",
        "show_history = st.sidebar.checkbox(\"Show Historical Trend\", value=True)\n",
        "use_model = st.sidebar.checkbox(\"Use Local Model Instead of Snowflake\", value=False)\n",
        "# Load model\n",
        "state_key = state.replace(\" \", \"\").lower()  # Remove spaces and lowercase it\n",
        "model_file = f\"rf_model_{state_key}.pkl\"\n",
        "\n",
        "if os.path.exists(model_file):\n",
        "    with open(model_file, \"rb\") as f:\n",
        "        model = pickle.load(f)\n",
        "    st.write(f\"✅ Loaded model for {state}\")\n",
        "else:\n",
        "    st.error(f\"Model file '{model_file}' not found. Please add it to the folder.\")\n",
        "    st.stop()\n",
        "\n",
        "# Load history\n",
        "data_file = f\"{state.replace(' ', '')}_history.csv\"  # Remove spaces in the state name for the file\n",
        "try:\n",
        "    history_df = pd.read_csv(data_file)\n",
        "    history_df['Date'] = pd.to_datetime(history_df['Date'])\n",
        "except FileNotFoundError:\n",
        "    st.warning(f\"History file '{data_file}' not found. Historical trend unavailable.\")\n",
        "    history_df = pd.DataFrame()\n",
        "\n",
        "# Input\n",
        "st.subheader(\"Set Your Input\")\n",
        "lag_price = st.slider(\n",
        "    \"Last Month’s Median Sale Price ($)\",\n",
        "    min_value=int(history_df['Sale_Prices'].min()) if not history_df.empty else 100000,\n",
        "    max_value=int(history_df['Sale_Prices'].max()) if not history_df.empty else 1500000,\n",
        "    value=int(history_df['Sale_Prices'].iloc[-1]) if not history_df.empty else 500000,\n",
        "    step=10000,\n",
        "    format=\"$%d\"\n",
        ")\n",
        "\n",
        "# Prediction\n",
        "input_data = pd.DataFrame([[lag_price]], columns=['LagPrice'])\n",
        "prediction = model.predict(input_data)[0]\n",
        "conf_low, conf_high = prediction * 0.9, prediction * 1.1\n",
        "\n",
        "# Display forecast\n",
        "st.subheader(\"Forecast Result\")\n",
        "col1, col2 = st.columns(2)\n",
        "with col1:\n",
        "    st.metric(\"Last Month\", f\"${lag_price:,.0f}\")\n",
        "with col2:\n",
        "    st.metric(\"Next Month Prediction\", f\"${prediction:,.0f}\", delta=f\"${prediction - lag_price:,.0f}\")\n",
        "st.write(f\"Confidence Range: ${conf_low:,.0f} - ${conf_high:,.0f}\")\n",
        "\n",
        "# Historical trend\n",
        "if show_history and not history_df.empty:\n",
        "    st.subheader(f\"{state} Price Trend\")\n",
        "    plot_df = pd.concat([\n",
        "        history_df.tail(5),\n",
        "        pd.DataFrame({'Date': [history_df['Date'].iloc[-1], pd.Timestamp('2025-04-01')], 'Sale_Prices': [lag_price, prediction]})\n",
        "    ])\n",
        "    fig, ax = plt.subplots(figsize=(10, 5))\n",
        "    ax.plot(plot_df['Date'], plot_df['Sale_Prices'], marker='o', color='#1f77b4', label='Actual + Forecast')\n",
        "    ax.axvline(history_df['Date'].iloc[-1], color='gray', linestyle='--', alpha=0.5, label='Forecast Start')\n",
        "    ax.fill_between([plot_df['Date'].iloc[-2], plot_df['Date'].iloc[-1]], [lag_price, conf_low], [lag_price, conf_high], color='#1f77b4', alpha=0.1, label='Confidence')\n",
        "    ax.set_ylabel(\"Price ($)\")\n",
        "    ax.legend()\n",
        "    ax.grid(True, linestyle='--', alpha=0.7)\n",
        "    plt.xticks(rotation=45)\n",
        "    st.pyplot(fig)\n",
        "\n",
        "st.markdown(\"---\")\n",
        "st.write(\"✨ Forecast generated on March 14, 2025. Data from Zillow via kagglehub.\")\n",
        "\"\"\")"
      ],
      "metadata": {
        "id": "UivLlS-qw5cJ"
      },
      "execution_count": 15,
      "outputs": []
    },
    {
      "cell_type": "code",
      "source": [
        "import matplotlib._api.deprecation\n",
        "matplotlib._api.deprecation.mplDeprecation = DeprecationWarning"
      ],
      "metadata": {
        "id": "4nbRQXwHWxXI"
      },
      "execution_count": 16,
      "outputs": []
    },
    {
      "cell_type": "code",
      "source": [
        "import matplotlib\n",
        "matplotlib.use('Agg')\n",
        "import matplotlib.pyplot as plt"
      ],
      "metadata": {
        "id": "t9L57NpxW6lR"
      },
      "execution_count": 17,
      "outputs": []
    },
    {
      "cell_type": "code",
      "source": [
        "!wget -q -O - https://loca.lt/mytunnelpassword"
      ],
      "metadata": {
        "colab": {
          "base_uri": "https://localhost:8080/"
        },
        "id": "lOi83aEFXD0a",
        "outputId": "32ad202a-e80a-4953-a564-643540ec368e"
      },
      "execution_count": 18,
      "outputs": [
        {
          "output_type": "stream",
          "name": "stdout",
          "text": [
            "35.227.19.93"
          ]
        }
      ]
    },
    {
      "cell_type": "code",
      "source": [
        "import matplotlib._api.deprecation\n",
        "matplotlib._api.deprecation.mplDeprecation = DeprecationWarning"
      ],
      "metadata": {
        "id": "ZF6x3OTBXXoH"
      },
      "execution_count": 19,
      "outputs": []
    },
    {
      "cell_type": "code",
      "source": [],
      "metadata": {
        "id": "QKr_QJ_4P3-G"
      },
      "execution_count": 19,
      "outputs": []
    },
    {
      "cell_type": "code",
      "source": [
        "from google.colab import files\n",
        "files.download(\"app.py\")"
      ],
      "metadata": {
        "colab": {
          "base_uri": "https://localhost:8080/",
          "height": 34
        },
        "id": "HGEAkN-f4M2N",
        "outputId": "3676fd23-c554-40fe-dcce-c46676230bae",
        "collapsed": true
      },
      "execution_count": 20,
      "outputs": [
        {
          "output_type": "display_data",
          "data": {
            "text/plain": [
              "<IPython.core.display.Javascript object>"
            ],
            "application/javascript": [
              "\n",
              "    async function download(id, filename, size) {\n",
              "      if (!google.colab.kernel.accessAllowed) {\n",
              "        return;\n",
              "      }\n",
              "      const div = document.createElement('div');\n",
              "      const label = document.createElement('label');\n",
              "      label.textContent = `Downloading \"${filename}\": `;\n",
              "      div.appendChild(label);\n",
              "      const progress = document.createElement('progress');\n",
              "      progress.max = size;\n",
              "      div.appendChild(progress);\n",
              "      document.body.appendChild(div);\n",
              "\n",
              "      const buffers = [];\n",
              "      let downloaded = 0;\n",
              "\n",
              "      const channel = await google.colab.kernel.comms.open(id);\n",
              "      // Send a message to notify the kernel that we're ready.\n",
              "      channel.send({})\n",
              "\n",
              "      for await (const message of channel.messages) {\n",
              "        // Send a message to notify the kernel that we're ready.\n",
              "        channel.send({})\n",
              "        if (message.buffers) {\n",
              "          for (const buffer of message.buffers) {\n",
              "            buffers.push(buffer);\n",
              "            downloaded += buffer.byteLength;\n",
              "            progress.value = downloaded;\n",
              "          }\n",
              "        }\n",
              "      }\n",
              "      const blob = new Blob(buffers, {type: 'application/binary'});\n",
              "      const a = document.createElement('a');\n",
              "      a.href = window.URL.createObjectURL(blob);\n",
              "      a.download = filename;\n",
              "      div.appendChild(a);\n",
              "      a.click();\n",
              "      div.remove();\n",
              "    }\n",
              "  "
            ]
          },
          "metadata": {}
        },
        {
          "output_type": "display_data",
          "data": {
            "text/plain": [
              "<IPython.core.display.Javascript object>"
            ],
            "application/javascript": [
              "download(\"download_ceb2de77-b210-4a06-b14b-3b75dcdd0d4c\", \"app.py\", 3364)"
            ]
          },
          "metadata": {}
        }
      ]
    },
    {
      "cell_type": "code",
      "source": [
        "#34.106.229.127"
      ],
      "metadata": {
        "id": "v4MuZgymh_RX"
      },
      "execution_count": 21,
      "outputs": []
    },
    {
      "cell_type": "code",
      "source": [
        "!streamlit run app.py & npx localtunnel --port 8501"
      ],
      "metadata": {
        "colab": {
          "base_uri": "https://localhost:8080/"
        },
        "id": "0ZeLdMggfHPu",
        "outputId": "63e01c81-9a99-4cec-bd79-8611aabdd98b"
      },
      "execution_count": 22,
      "outputs": [
        {
          "output_type": "stream",
          "name": "stdout",
          "text": [
            "\n",
            "Collecting usage statistics. To deactivate, set browser.gatherUsageStats to false.\n",
            "\u001b[0m\n",
            "\u001b[0m\n",
            "\u001b[34m\u001b[1m  You can now view your Streamlit app in your browser.\u001b[0m\n",
            "\u001b[0m\n",
            "\u001b[34m  Local URL: \u001b[0m\u001b[1mhttp://localhost:8501\u001b[0m\n",
            "\u001b[34m  Network URL: \u001b[0m\u001b[1mhttp://172.28.0.12:8501\u001b[0m\n",
            "\u001b[34m  External URL: \u001b[0m\u001b[1mhttp://35.227.19.93:8501\u001b[0m\n",
            "\u001b[0m\n",
            "\u001b[1G\u001b[0K⠙\u001b[1G\u001b[0K⠹\u001b[1G\u001b[0K⠸\u001b[1G\u001b[0K⠼\u001b[1G\u001b[0K⠴\u001b[1G\u001b[0K⠦\u001b[1G\u001b[0K⠧\u001b[1G\u001b[0K⠇\u001b[1G\u001b[0K\u001b[1G\u001b[0JNeed to install the following packages:\n",
            "localtunnel@2.0.2\n",
            "Ok to proceed? (y) \u001b[20Gy\n",
            "\n",
            "\u001b[1G\u001b[0K⠙\u001b[1G\u001b[0K⠹\u001b[1G\u001b[0K⠸\u001b[1G\u001b[0K⠼\u001b[1G\u001b[0K⠴\u001b[1G\u001b[0K⠦\u001b[1G\u001b[0K⠧\u001b[1G\u001b[0K⠇\u001b[1G\u001b[0K⠏\u001b[1G\u001b[0K⠋\u001b[1G\u001b[0K⠙\u001b[1G\u001b[0K⠹\u001b[1G\u001b[0K⠸\u001b[1G\u001b[0K⠼\u001b[1G\u001b[0K⠴\u001b[1G\u001b[0K⠦\u001b[1G\u001b[0K⠧\u001b[1G\u001b[0K⠇\u001b[1G\u001b[0K⠏\u001b[1G\u001b[0K⠋\u001b[1G\u001b[0K⠙\u001b[1G\u001b[0K⠹\u001b[1G\u001b[0K⠸\u001b[1G\u001b[0K⠼\u001b[1G\u001b[0K⠴\u001b[1G\u001b[0K⠦\u001b[1G\u001b[0K⠧\u001b[1G\u001b[0K⠇\u001b[1G\u001b[0Kyour url is: https://empty-adults-mate.loca.lt\n",
            "\u001b[34m  Stopping...\u001b[0m\n",
            "^C\n"
          ]
        }
      ]
    },
    {
      "cell_type": "code",
      "source": [
        "!pip install snowflake-connector-python"
      ],
      "metadata": {
        "colab": {
          "base_uri": "https://localhost:8080/"
        },
        "id": "FsXtRRPpxVnb",
        "outputId": "5fff6d17-ccf0-4949-d617-0c28a634a2f0"
      },
      "execution_count": 23,
      "outputs": [
        {
          "output_type": "stream",
          "name": "stdout",
          "text": [
            "Collecting snowflake-connector-python\n",
            "  Downloading snowflake_connector_python-3.14.0-cp311-cp311-manylinux_2_17_x86_64.manylinux2014_x86_64.whl.metadata (67 kB)\n",
            "\u001b[2K     \u001b[90m━━━━━━━━━━━━━━━━━━━━━━━━━━━━━━━━━━━━━━━━\u001b[0m \u001b[32m67.8/67.8 kB\u001b[0m \u001b[31m1.6 MB/s\u001b[0m eta \u001b[36m0:00:00\u001b[0m\n",
            "\u001b[?25hCollecting asn1crypto<2.0.0,>0.24.0 (from snowflake-connector-python)\n",
            "  Downloading asn1crypto-1.5.1-py2.py3-none-any.whl.metadata (13 kB)\n",
            "Requirement already satisfied: cffi<2.0.0,>=1.9 in /usr/local/lib/python3.11/dist-packages (from snowflake-connector-python) (1.17.1)\n",
            "Requirement already satisfied: cryptography>=3.1.0 in /usr/local/lib/python3.11/dist-packages (from snowflake-connector-python) (43.0.3)\n",
            "Requirement already satisfied: pyOpenSSL<26.0.0,>=22.0.0 in /usr/local/lib/python3.11/dist-packages (from snowflake-connector-python) (24.2.1)\n",
            "Requirement already satisfied: pyjwt<3.0.0 in /usr/local/lib/python3.11/dist-packages (from snowflake-connector-python) (2.10.1)\n",
            "Requirement already satisfied: pytz in /usr/local/lib/python3.11/dist-packages (from snowflake-connector-python) (2025.1)\n",
            "Requirement already satisfied: requests<3.0.0 in /usr/local/lib/python3.11/dist-packages (from snowflake-connector-python) (2.32.3)\n",
            "Requirement already satisfied: packaging in /usr/local/lib/python3.11/dist-packages (from snowflake-connector-python) (24.2)\n",
            "Requirement already satisfied: charset_normalizer<4,>=2 in /usr/local/lib/python3.11/dist-packages (from snowflake-connector-python) (3.4.1)\n",
            "Requirement already satisfied: idna<4,>=2.5 in /usr/local/lib/python3.11/dist-packages (from snowflake-connector-python) (3.10)\n",
            "Requirement already satisfied: certifi>=2017.4.17 in /usr/local/lib/python3.11/dist-packages (from snowflake-connector-python) (2025.1.31)\n",
            "Requirement already satisfied: typing_extensions<5,>=4.3 in /usr/local/lib/python3.11/dist-packages (from snowflake-connector-python) (4.12.2)\n",
            "Requirement already satisfied: filelock<4,>=3.5 in /usr/local/lib/python3.11/dist-packages (from snowflake-connector-python) (3.18.0)\n",
            "Requirement already satisfied: sortedcontainers>=2.4.0 in /usr/local/lib/python3.11/dist-packages (from snowflake-connector-python) (2.4.0)\n",
            "Requirement already satisfied: platformdirs<5.0.0,>=2.6.0 in /usr/local/lib/python3.11/dist-packages (from snowflake-connector-python) (4.3.7)\n",
            "Collecting tomlkit (from snowflake-connector-python)\n",
            "  Downloading tomlkit-0.13.2-py3-none-any.whl.metadata (2.7 kB)\n",
            "Requirement already satisfied: pycparser in /usr/local/lib/python3.11/dist-packages (from cffi<2.0.0,>=1.9->snowflake-connector-python) (2.22)\n",
            "Requirement already satisfied: urllib3<3,>=1.21.1 in /usr/local/lib/python3.11/dist-packages (from requests<3.0.0->snowflake-connector-python) (2.3.0)\n",
            "Downloading snowflake_connector_python-3.14.0-cp311-cp311-manylinux_2_17_x86_64.manylinux2014_x86_64.whl (2.5 MB)\n",
            "\u001b[2K   \u001b[90m━━━━━━━━━━━━━━━━━━━━━━━━━━━━━━━━━━━━━━━━\u001b[0m \u001b[32m2.5/2.5 MB\u001b[0m \u001b[31m28.5 MB/s\u001b[0m eta \u001b[36m0:00:00\u001b[0m\n",
            "\u001b[?25hDownloading asn1crypto-1.5.1-py2.py3-none-any.whl (105 kB)\n",
            "\u001b[2K   \u001b[90m━━━━━━━━━━━━━━━━━━━━━━━━━━━━━━━━━━━━━━━━\u001b[0m \u001b[32m105.0/105.0 kB\u001b[0m \u001b[31m6.6 MB/s\u001b[0m eta \u001b[36m0:00:00\u001b[0m\n",
            "\u001b[?25hDownloading tomlkit-0.13.2-py3-none-any.whl (37 kB)\n",
            "Installing collected packages: asn1crypto, tomlkit, snowflake-connector-python\n",
            "Successfully installed asn1crypto-1.5.1 snowflake-connector-python-3.14.0 tomlkit-0.13.2\n"
          ]
        }
      ]
    },
    {
      "cell_type": "code",
      "source": [
        "import kagglehub\n",
        "import os\n",
        "\n",
        "# Download dataset\n",
        "path = kagglehub.dataset_download(\"zillow/zecon\")\n",
        "data_path = f\"{path}/State_time_series.csv\"\n",
        "\n",
        "if os.path.exists(data_path):\n",
        "    print(f\"File found at: {data_path}\")\n",
        "else:\n",
        "    print(\"File not found!\")\n",
        "    raise FileNotFoundError(data_path)"
      ],
      "metadata": {
        "colab": {
          "base_uri": "https://localhost:8080/"
        },
        "id": "tub1EITydODu",
        "outputId": "02a67593-5c73-443d-e02d-132e85454de1"
      },
      "execution_count": 24,
      "outputs": [
        {
          "output_type": "stream",
          "name": "stdout",
          "text": [
            "File found at: /root/.cache/kagglehub/datasets/zillow/zecon/versions/6/State_time_series.csv\n"
          ]
        }
      ]
    },
    {
      "cell_type": "code",
      "source": [
        "!pip install -U kagglehub snowflake-connector-python pandas\n",
        "\n",
        "import kagglehub\n",
        "import snowflake.connector\n",
        "import os\n",
        "import pandas as pd\n",
        "\n",
        "\n",
        "\n",
        "\n",
        "\n"
      ],
      "metadata": {
        "colab": {
          "base_uri": "https://localhost:8080/"
        },
        "collapsed": true,
        "id": "9VJ794dKjY5x",
        "outputId": "95eae35d-5f23-4db7-989c-2bf454146471"
      },
      "execution_count": 25,
      "outputs": [
        {
          "output_type": "stream",
          "name": "stdout",
          "text": [
            "Requirement already satisfied: kagglehub in /usr/local/lib/python3.11/dist-packages (0.3.10)\n",
            "Requirement already satisfied: snowflake-connector-python in /usr/local/lib/python3.11/dist-packages (3.14.0)\n",
            "Requirement already satisfied: pandas in /usr/local/lib/python3.11/dist-packages (2.2.2)\n",
            "Collecting pandas\n",
            "  Downloading pandas-2.2.3-cp311-cp311-manylinux_2_17_x86_64.manylinux2014_x86_64.whl.metadata (89 kB)\n",
            "\u001b[2K     \u001b[90m━━━━━━━━━━━━━━━━━━━━━━━━━━━━━━━━━━━━━━━━\u001b[0m \u001b[32m89.9/89.9 kB\u001b[0m \u001b[31m2.4 MB/s\u001b[0m eta \u001b[36m0:00:00\u001b[0m\n",
            "\u001b[?25hRequirement already satisfied: packaging in /usr/local/lib/python3.11/dist-packages (from kagglehub) (24.2)\n",
            "Requirement already satisfied: pyyaml in /usr/local/lib/python3.11/dist-packages (from kagglehub) (6.0.2)\n",
            "Requirement already satisfied: requests in /usr/local/lib/python3.11/dist-packages (from kagglehub) (2.32.3)\n",
            "Requirement already satisfied: tqdm in /usr/local/lib/python3.11/dist-packages (from kagglehub) (4.67.1)\n",
            "Requirement already satisfied: asn1crypto<2.0.0,>0.24.0 in /usr/local/lib/python3.11/dist-packages (from snowflake-connector-python) (1.5.1)\n",
            "Requirement already satisfied: cffi<2.0.0,>=1.9 in /usr/local/lib/python3.11/dist-packages (from snowflake-connector-python) (1.17.1)\n",
            "Requirement already satisfied: cryptography>=3.1.0 in /usr/local/lib/python3.11/dist-packages (from snowflake-connector-python) (43.0.3)\n",
            "Requirement already satisfied: pyOpenSSL<26.0.0,>=22.0.0 in /usr/local/lib/python3.11/dist-packages (from snowflake-connector-python) (24.2.1)\n",
            "Requirement already satisfied: pyjwt<3.0.0 in /usr/local/lib/python3.11/dist-packages (from snowflake-connector-python) (2.10.1)\n",
            "Requirement already satisfied: pytz in /usr/local/lib/python3.11/dist-packages (from snowflake-connector-python) (2025.1)\n",
            "Requirement already satisfied: charset_normalizer<4,>=2 in /usr/local/lib/python3.11/dist-packages (from snowflake-connector-python) (3.4.1)\n",
            "Requirement already satisfied: idna<4,>=2.5 in /usr/local/lib/python3.11/dist-packages (from snowflake-connector-python) (3.10)\n",
            "Requirement already satisfied: certifi>=2017.4.17 in /usr/local/lib/python3.11/dist-packages (from snowflake-connector-python) (2025.1.31)\n",
            "Requirement already satisfied: typing_extensions<5,>=4.3 in /usr/local/lib/python3.11/dist-packages (from snowflake-connector-python) (4.12.2)\n",
            "Requirement already satisfied: filelock<4,>=3.5 in /usr/local/lib/python3.11/dist-packages (from snowflake-connector-python) (3.18.0)\n",
            "Requirement already satisfied: sortedcontainers>=2.4.0 in /usr/local/lib/python3.11/dist-packages (from snowflake-connector-python) (2.4.0)\n",
            "Requirement already satisfied: platformdirs<5.0.0,>=2.6.0 in /usr/local/lib/python3.11/dist-packages (from snowflake-connector-python) (4.3.7)\n",
            "Requirement already satisfied: tomlkit in /usr/local/lib/python3.11/dist-packages (from snowflake-connector-python) (0.13.2)\n",
            "Requirement already satisfied: numpy>=1.23.2 in /usr/local/lib/python3.11/dist-packages (from pandas) (1.26.4)\n",
            "Requirement already satisfied: python-dateutil>=2.8.2 in /usr/local/lib/python3.11/dist-packages (from pandas) (2.8.2)\n",
            "Requirement already satisfied: tzdata>=2022.7 in /usr/local/lib/python3.11/dist-packages (from pandas) (2025.1)\n",
            "Requirement already satisfied: pycparser in /usr/local/lib/python3.11/dist-packages (from cffi<2.0.0,>=1.9->snowflake-connector-python) (2.22)\n",
            "Requirement already satisfied: six>=1.5 in /usr/local/lib/python3.11/dist-packages (from python-dateutil>=2.8.2->pandas) (1.17.0)\n",
            "Requirement already satisfied: urllib3<3,>=1.21.1 in /usr/local/lib/python3.11/dist-packages (from requests->kagglehub) (2.3.0)\n",
            "Downloading pandas-2.2.3-cp311-cp311-manylinux_2_17_x86_64.manylinux2014_x86_64.whl (13.1 MB)\n",
            "\u001b[2K   \u001b[90m━━━━━━━━━━━━━━━━━━━━━━━━━━━━━━━━━━━━━━━━\u001b[0m \u001b[32m13.1/13.1 MB\u001b[0m \u001b[31m43.9 MB/s\u001b[0m eta \u001b[36m0:00:00\u001b[0m\n",
            "\u001b[?25hInstalling collected packages: pandas\n",
            "  Attempting uninstall: pandas\n",
            "    Found existing installation: pandas 2.2.2\n",
            "    Uninstalling pandas-2.2.2:\n",
            "      Successfully uninstalled pandas-2.2.2\n",
            "\u001b[31mERROR: pip's dependency resolver does not currently take into account all the packages that are installed. This behaviour is the source of the following dependency conflicts.\n",
            "google-colab 1.0.0 requires pandas==2.2.2, but you have pandas 2.2.3 which is incompatible.\u001b[0m\u001b[31m\n",
            "\u001b[0mSuccessfully installed pandas-2.2.3\n"
          ]
        }
      ]
    },
    {
      "cell_type": "code",
      "source": [
        "# Snowflake connection\n",
        "conn = snowflake.connector.connect(\n",
        "    user='TNEWSOME',\n",
        "    password='sywXud-pucso5-pohgar',\n",
        "    account='XOJMCUN-QF26830',\n",
        "    warehouse='COMPUTE_WH',\n",
        "    database='zillow_data',\n",
        "    schema='zillow_data'\n",
        ")\n",
        "\n",
        "cur = conn.cursor()\n",
        "\n",
        "# Fetch dataset\n",
        "path = kagglehub.dataset_download(\"zillow/zecon\")\n",
        "data_path = f\"{path}/State_time_series.csv\"\n",
        "print(f\"File path: {data_path}\")\n",
        "\n",
        "# Local preview\n",
        "df_local = pd.read_csv(data_path, nrows=10)\n",
        "print(\"Local preview (first 10 rows):\")\n",
        "print(df_local)\n",
        "\n",
        "# Setup\n",
        "cur.execute(\"CREATE DATABASE IF NOT EXISTS zillow_data\")\n",
        "cur.execute(\"USE DATABASE zillow_data\")\n",
        "cur.execute(\"CREATE SCHEMA IF NOT EXISTS zillow_data\")\n",
        "cur.execute(\"USE SCHEMA zillow_data\")\n",
        "cur.execute(\"\"\"\n",
        "    CREATE OR REPLACE STAGE my_stage\n",
        "    FILE_FORMAT = (TYPE = CSV FIELD_OPTIONALLY_ENCLOSED_BY = '\"' SKIP_HEADER = 1)\n",
        "\"\"\")\n",
        "cur.execute(\"\"\"\n",
        "    CREATE OR REPLACE TABLE zillow_housing_data (\n",
        "        Date DATE,\n",
        "        RegionName STRING,\n",
        "        Sale_Prices FLOAT,\n",
        "        InventoryAll FLOAT,\n",
        "        ZHVI_AllHomes FLOAT\n",
        "    )\n",
        "\"\"\")\n",
        "\n",
        "# Upload\n",
        "cur.execute(f\"PUT file://{data_path} @my_stage AUTO_COMPRESS=TRUE\")\n",
        "cur.execute(\"LIST @my_stage\")\n",
        "print(\"Files in stage:\", cur.fetchall())\n",
        "\n",
        "# Load with column mapping\n",
        "cur.execute(\"\"\"\n",
        "    COPY INTO zillow_housing_data (Date, RegionName, Sale_Prices, InventoryAll, ZHVI_AllHomes)\n",
        "    FROM (\n",
        "        SELECT $1, $2, $54, $62, $67\n",
        "        FROM @my_stage/State_time_series.csv.gz\n",
        "    )\n",
        "    FILE_FORMAT = (TYPE = CSV FIELD_OPTIONALLY_ENCLOSED_BY = '\"' SKIP_HEADER = 1)\n",
        "    ON_ERROR = 'CONTINUE'\n",
        "\"\"\")\n",
        "\n",
        "# Verify\n",
        "cur.execute(\"SELECT * FROM zillow_housing_data LIMIT 10\")\n",
        "rows = cur.fetchall()\n",
        "print(\"First 10 rows:\", rows)\n",
        "cur.execute(\"SELECT COUNT(*) FROM zillow_housing_data\")\n",
        "count = cur.fetchone()[0]\n",
        "print(f\"Total rows: {count}\")\n",
        "\n",
        "cur.close()\n",
        "conn.close()"
      ],
      "metadata": {
        "colab": {
          "base_uri": "https://localhost:8080/"
        },
        "collapsed": true,
        "id": "l9C29awqiuUj",
        "outputId": "fcdfd7d7-673b-476b-bf7d-7eeead3b4366"
      },
      "execution_count": 26,
      "outputs": [
        {
          "output_type": "stream",
          "name": "stdout",
          "text": [
            "File path: /root/.cache/kagglehub/datasets/zillow/zecon/versions/6/State_time_series.csv\n",
            "Local preview (first 10 rows):\n",
            "         Date   RegionName  DaysOnZillow_AllHomes  \\\n",
            "0  1996-04-30      Alabama                    NaN   \n",
            "1  1996-04-30      Arizona                    NaN   \n",
            "2  1996-04-30     Arkansas                    NaN   \n",
            "3  1996-04-30   California                    NaN   \n",
            "4  1996-04-30     Colorado                    NaN   \n",
            "5  1996-04-30  Connecticut                    NaN   \n",
            "6  1996-04-30     Delaware                    NaN   \n",
            "7  1996-04-30      Florida                    NaN   \n",
            "8  1996-04-30      Georgia                    NaN   \n",
            "9  1996-04-30       Hawaii                    NaN   \n",
            "\n",
            "   InventorySeasonallyAdjusted_AllHomes  InventoryRaw_AllHomes  \\\n",
            "0                                   NaN                    NaN   \n",
            "1                                   NaN                    NaN   \n",
            "2                                   NaN                    NaN   \n",
            "3                                   NaN                    NaN   \n",
            "4                                   NaN                    NaN   \n",
            "5                                   NaN                    NaN   \n",
            "6                                   NaN                    NaN   \n",
            "7                                   NaN                    NaN   \n",
            "8                                   NaN                    NaN   \n",
            "9                                   NaN                    NaN   \n",
            "\n",
            "   MedianListingPricePerSqft_1Bedroom  MedianListingPricePerSqft_2Bedroom  \\\n",
            "0                                 NaN                                 NaN   \n",
            "1                                 NaN                                 NaN   \n",
            "2                                 NaN                                 NaN   \n",
            "3                                 NaN                                 NaN   \n",
            "4                                 NaN                                 NaN   \n",
            "5                                 NaN                                 NaN   \n",
            "6                                 NaN                                 NaN   \n",
            "7                                 NaN                                 NaN   \n",
            "8                                 NaN                                 NaN   \n",
            "9                                 NaN                                 NaN   \n",
            "\n",
            "   MedianListingPricePerSqft_3Bedroom  MedianListingPricePerSqft_4Bedroom  \\\n",
            "0                                 NaN                                 NaN   \n",
            "1                                 NaN                                 NaN   \n",
            "2                                 NaN                                 NaN   \n",
            "3                                 NaN                                 NaN   \n",
            "4                                 NaN                                 NaN   \n",
            "5                                 NaN                                 NaN   \n",
            "6                                 NaN                                 NaN   \n",
            "7                                 NaN                                 NaN   \n",
            "8                                 NaN                                 NaN   \n",
            "9                                 NaN                                 NaN   \n",
            "\n",
            "   MedianListingPricePerSqft_5BedroomOrMore  ...  ZHVI_BottomTier  \\\n",
            "0                                       NaN  ...            45600   \n",
            "1                                       NaN  ...            67100   \n",
            "2                                       NaN  ...            38400   \n",
            "3                                       NaN  ...            95100   \n",
            "4                                       NaN  ...            82700   \n",
            "5                                       NaN  ...            83700   \n",
            "6                                       NaN  ...            77200   \n",
            "7                                       NaN  ...            52500   \n",
            "8                                       NaN  ...            57200   \n",
            "9                                       NaN  ...           144500   \n",
            "\n",
            "   ZHVI_CondoCoop  ZHVI_MiddleTier  ZHVI_SingleFamilyResidence  ZHVI_TopTier  \\\n",
            "0         99500.0            79500                       79000        140200   \n",
            "1         78900.0           103600                      107500        168700   \n",
            "2         70300.0            64400                       64500        115200   \n",
            "3        136100.0           157900                      162000        270600   \n",
            "4         99400.0           128100                      133600        209300   \n",
            "5         85000.0           132000                      141000        231600   \n",
            "6             NaN           106800                      107400        161600   \n",
            "7         70600.0            86300                       92100        155300   \n",
            "8         89300.0            92000                       92400        163900   \n",
            "9        177000.0           227400                      262600        374700   \n",
            "\n",
            "   ZRI_AllHomes  ZRI_AllHomesPlusMultifamily  ZriPerSqft_AllHomes  \\\n",
            "0           NaN                          NaN                  NaN   \n",
            "1           NaN                          NaN                  NaN   \n",
            "2           NaN                          NaN                  NaN   \n",
            "3           NaN                          NaN                  NaN   \n",
            "4           NaN                          NaN                  NaN   \n",
            "5           NaN                          NaN                  NaN   \n",
            "6           NaN                          NaN                  NaN   \n",
            "7           NaN                          NaN                  NaN   \n",
            "8           NaN                          NaN                  NaN   \n",
            "9           NaN                          NaN                  NaN   \n",
            "\n",
            "   Zri_MultiFamilyResidenceRental  Zri_SingleFamilyResidenceRental  \n",
            "0                             NaN                              NaN  \n",
            "1                             NaN                              NaN  \n",
            "2                             NaN                              NaN  \n",
            "3                             NaN                              NaN  \n",
            "4                             NaN                              NaN  \n",
            "5                             NaN                              NaN  \n",
            "6                             NaN                              NaN  \n",
            "7                             NaN                              NaN  \n",
            "8                             NaN                              NaN  \n",
            "9                             NaN                              NaN  \n",
            "\n",
            "[10 rows x 82 columns]\n",
            "Files in stage: [('my_stage/State_time_series.csv.gz', 1750864, '4613f22ae02145a742f06fd8488cb1a3', 'Wed, 26 Mar 2025 00:10:11 GMT')]\n",
            "First 10 rows: [(datetime.date(1996, 4, 30), 'Alabama', None, None, 61500.0), (datetime.date(1996, 4, 30), 'Arizona', None, None, 59200.0), (datetime.date(1996, 4, 30), 'Arkansas', None, None, 53000.0), (datetime.date(1996, 4, 30), 'California', None, None, 93700.0), (datetime.date(1996, 4, 30), 'Colorado', None, None, 77800.0), (datetime.date(1996, 4, 30), 'Connecticut', None, None, 64700.0), (datetime.date(1996, 4, 30), 'Delaware', None, None, 90100.0), (datetime.date(1996, 4, 30), 'Florida', None, None, 45400.0), (datetime.date(1996, 4, 30), 'Georgia', None, None, 74900.0), (datetime.date(1996, 4, 30), 'Hawaii', None, None, 152300.0)]\n",
            "Total rows: 13212\n"
          ]
        }
      ]
    },
    {
      "cell_type": "code",
      "source": [
        "\n",
        "try:\n",
        "    cur.execute(\"SELECT CURRENT_DATE\")\n",
        "    result = cur.fetchone()\n",
        "    print(f\"Connected to Snowflake! Current date is: {result[0]}\")\n",
        "except Exception as e:\n",
        "    print(f\"Error connecting to Snowflake: {e}\")\n"
      ],
      "metadata": {
        "colab": {
          "base_uri": "https://localhost:8080/"
        },
        "id": "pgFlGB6nCsqI",
        "outputId": "04be796b-98de-450a-de66-9b883f93b78b"
      },
      "execution_count": 27,
      "outputs": [
        {
          "output_type": "stream",
          "name": "stdout",
          "text": [
            "Error connecting to Snowflake: 252006: Cursor is closed in execute.\n"
          ]
        }
      ]
    },
    {
      "cell_type": "code",
      "source": [
        "import streamlit as st\n",
        "import pandas as pd\n",
        "import snowflake.connector\n",
        "\n",
        "# Snowflake connection\n",
        "try:\n",
        "    conn = snowflake.connector.connect(\n",
        "    user=os.getenv('SNOWFLAKE_USER'),\n",
        "    password=os.getenv('SNOWFLAKE_PASSWORD'),\n",
        "    account=os.getenv('SNOWFLAKE_ACCOUNT'),\n",
        "    warehouse='COMPUTE_WH',\n",
        "    database='zillow_data',\n",
        "    schema='zillow_data'\n",
        "    )\n",
        "except Exception as e:\n",
        "    st.error(f\"Snowflake connection failed: {e}\")\n",
        "    st.stop()\n",
        "\n",
        "st.set_page_config(page_title=\"Zillow DMV Forecast\", page_icon=\"🏡\", layout=\"wide\")\n",
        "st.title(\"🏡 Zillow DMV Market Forecast\")\n",
        "st.markdown(\"### Predict Median Sale Prices in Maryland & Virginia!\")\n",
        "\n",
        "state = st.sidebar.selectbox(\"Select DMV Area\", [\"Maryland\", \"Virginia\"], index=0)\n",
        "\n",
        "# Fetch data\n",
        "query = f\"\"\"\n",
        "    SELECT \"Date\" AS sale_date, \"Sale_Prices\" AS sale_price,\n",
        "           LAG(\"Sale_Prices\") OVER (PARTITION BY \"RegionName\" ORDER BY \"Date\") AS lag_price\n",
        "    FROM zillow_housing_data\n",
        "    WHERE \"RegionName\" = '{state}'\n",
        "    ORDER BY sale_date DESC\n",
        "    LIMIT 1\n",
        "\"\"\"\n",
        "try:\n",
        "    df = pd.read_sql(query, conn)\n",
        "    if df.empty:\n",
        "        st.warning(f\"No data found for {state}\")\n",
        "        lag_price = 500000\n",
        "        predicted = lag_price\n",
        "    else:\n",
        "        # Show column names\n",
        "        st.write(\"Columns in DataFrame:\", df.columns.tolist())\n",
        "        # Check if lag_price exists and is not null\n",
        "        lag_price = int(df['lag_price'].iloc[0]) if 'lag_price' in df.columns and not pd.isna(df['lag_price'].iloc[0]) else 500000\n",
        "        sale_price = df['sale_price'].iloc[0] if 'sale_price' in df.columns and not pd.isna(df['sale_price'].iloc[0]) else lag_price\n",
        "        predicted = lag_price + (sale_price - lag_price) * 0.1 if not df.empty else lag_price\n",
        "except Exception as e:\n",
        "    st.error(f\"Query failed: {e}\")\n",
        "    conn.close()\n",
        "    st.stop()\n",
        "\n"
      ],
      "metadata": {
        "colab": {
          "base_uri": "https://localhost:8080/"
        },
        "id": "2tBWvoiYjmqQ",
        "outputId": "6609c815-a75a-4bab-d71a-b9427f85c9c6"
      },
      "execution_count": 28,
      "outputs": [
        {
          "output_type": "stream",
          "name": "stderr",
          "text": [
            "2025-03-26 00:10:14.953 Thread 'MainThread': missing ScriptRunContext! This warning can be ignored when running in bare mode.\n",
            "2025-03-26 00:10:14.957 Thread 'MainThread': missing ScriptRunContext! This warning can be ignored when running in bare mode.\n",
            "2025-03-26 00:10:14.960 Thread 'MainThread': missing ScriptRunContext! This warning can be ignored when running in bare mode.\n",
            "2025-03-26 00:10:14.963 Thread 'MainThread': missing ScriptRunContext! This warning can be ignored when running in bare mode.\n",
            "2025-03-26 00:10:14.970 Thread 'MainThread': missing ScriptRunContext! This warning can be ignored when running in bare mode.\n",
            "2025-03-26 00:10:14.975 Thread 'MainThread': missing ScriptRunContext! This warning can be ignored when running in bare mode.\n",
            "2025-03-26 00:10:14.978 Thread 'MainThread': missing ScriptRunContext! This warning can be ignored when running in bare mode.\n",
            "2025-03-26 00:10:14.985 Thread 'MainThread': missing ScriptRunContext! This warning can be ignored when running in bare mode.\n",
            "2025-03-26 00:10:14.988 Thread 'MainThread': missing ScriptRunContext! This warning can be ignored when running in bare mode.\n",
            "2025-03-26 00:10:14.991 Thread 'MainThread': missing ScriptRunContext! This warning can be ignored when running in bare mode.\n",
            "2025-03-26 00:10:14.993 Thread 'MainThread': missing ScriptRunContext! This warning can be ignored when running in bare mode.\n",
            "<ipython-input-28-ca89062bdd62>:35: UserWarning: pandas only supports SQLAlchemy connectable (engine/connection) or database string URI or sqlite3 DBAPI2 connection. Other DBAPI2 objects are not tested. Please consider using SQLAlchemy.\n",
            "  df = pd.read_sql(query, conn)\n",
            "2025-03-26 00:10:17.026 Thread 'MainThread': missing ScriptRunContext! This warning can be ignored when running in bare mode.\n",
            "2025-03-26 00:10:17.027 Thread 'MainThread': missing ScriptRunContext! This warning can be ignored when running in bare mode.\n",
            "2025-03-26 00:10:17.106 Thread 'MainThread': missing ScriptRunContext! This warning can be ignored when running in bare mode.\n"
          ]
        }
      ]
    },
    {
      "cell_type": "code",
      "source": [
        "#"
      ],
      "metadata": {
        "id": "2g7WuiU0otoI"
      },
      "execution_count": 29,
      "outputs": []
    },
    {
      "cell_type": "code",
      "source": [
        "import os\n",
        "print(os.listdir())"
      ],
      "metadata": {
        "colab": {
          "base_uri": "https://localhost:8080/"
        },
        "id": "3MrL74iQ1nhP",
        "outputId": "bee4202e-1411-46f6-d84a-a37603daa78a"
      },
      "execution_count": 30,
      "outputs": [
        {
          "output_type": "stream",
          "name": "stdout",
          "text": [
            "['.config', 'rf_model_virginia.pkl', 'app.py', 'DistrictofColumbia_history.csv', 'Maryland_history.csv', 'rf_model_maryland.pkl', 'Virginia_history.csv', 'rf_model_districtofcolumbia.pkl', 'sample_data']\n"
          ]
        }
      ]
    },
    {
      "cell_type": "code",
      "source": [
        "!streamlit run app.py"
      ],
      "metadata": {
        "colab": {
          "base_uri": "https://localhost:8080/"
        },
        "id": "vuFM3_ZBzHqD",
        "outputId": "7eea40fc-8726-474a-9f8c-1505036b37c3"
      },
      "execution_count": null,
      "outputs": [
        {
          "output_type": "stream",
          "name": "stdout",
          "text": [
            "\n",
            "Collecting usage statistics. To deactivate, set browser.gatherUsageStats to false.\n",
            "\u001b[0m\n",
            "\u001b[0m\n",
            "\u001b[34m\u001b[1m  You can now view your Streamlit app in your browser.\u001b[0m\n",
            "\u001b[0m\n",
            "\u001b[34m  Local URL: \u001b[0m\u001b[1mhttp://localhost:8501\u001b[0m\n",
            "\u001b[34m  Network URL: \u001b[0m\u001b[1mhttp://172.28.0.12:8501\u001b[0m\n",
            "\u001b[34m  External URL: \u001b[0m\u001b[1mhttp://35.227.19.93:8501\u001b[0m\n",
            "\u001b[0m\n"
          ]
        }
      ]
    },
    {
      "cell_type": "code",
      "source": [
        "import streamlit as st\n",
        "import pandas as pd\n",
        "import snowflake.connector\n",
        "\n",
        "# Snowflake connection\n",
        "try:\n",
        "    conn = snowflake.connector.connect(\n",
        "        user='TNEWSOME',\n",
        "        password='sywXud-pucso5-pohgar',\n",
        "        account='XOJMCUN-QF26830',\n",
        "        warehouse='COMPUTE_WH',\n",
        "        database='zillow_data',\n",
        "        schema='zillow_data'\n",
        "    )\n",
        "except Exception as e:\n",
        "    st.error(f\"Snowflake connection failed: {e}\")\n",
        "    st.stop()\n",
        "\n",
        "st.set_page_config(page_title=\"Zillow DMV Forecast\", page_icon=\"🏡\", layout=\"wide\")\n",
        "st.title(\"🏡 Zillow DMV Market Forecast\")\n",
        "st.markdown(\"### Predict Median Sale Prices in Maryland & Virginia!\")\n",
        "\n",
        "state = st.sidebar.selectbox(\"Select DMV Area\", [\"Maryland\", \"Virginia\"], index=0)\n",
        "\n",
        "# Default values\n",
        "lag_price = 500000\n",
        "predicted = 500000\n",
        "\n",
        "# Fetch data\n",
        "query = f\"\"\"\n",
        "    WITH PriceTrends AS (\n",
        "        SELECT \"RegionName\",\n",
        "               DATE_TRUNC('month', \"Date\") AS Month,\n",
        "               AVG(\"Sale_Prices\") AS Avg_Sale_Price\n",
        "        FROM zillow_housing_data\n",
        "        WHERE \"RegionName\" = '{state}'\n",
        "        GROUP BY \"RegionName\", Month\n",
        "    )\n",
        "    SELECT Month AS sale_date,\n",
        "           Avg_Sale_Price AS sale_price,\n",
        "           LAG(Avg_Sale_Price) OVER (PARTITION BY \"RegionName\" ORDER BY Month) AS lag_price\n",
        "    FROM PriceTrends\n",
        "    ORDER BY sale_date DESC\n",
        "    LIMIT 1\n",
        "\"\"\"\n",
        "try:\n",
        "    df = pd.read_sql(query, conn)\n",
        "    if df.empty:\n",
        "        st.warning(f\"No data found for {state}\")\n",
        "    else:\n",
        "        st.write(\"Columns in DataFrame:\", df.columns.tolist())\n",
        "        lag_price = int(df['lag_price'].iloc[0]) if 'lag_price' in df.columns and not pd.isna(df['lag_price'].iloc[0]) else 500000\n",
        "        sale_price = df['sale_price'].iloc[0] if 'sale_price' in df.columns and not pd.isna(df['sale_price'].iloc[0]) else lag_price\n",
        "        predicted = lag_price + (sale_price - lag_price) * 0.1\n",
        "except Exception as e:\n",
        "    st.error(f\"Query failed: {e}\")\n",
        "    conn.close()\n",
        "    st.stop()\n",
        "\n",
        "# Input\n",
        "lag_price = st.slider(\n",
        "    \"Last Month’s Median Sale Price ($)\",\n",
        "    min_value=100000,\n",
        "    max_value=1500000,\n",
        "    value=lag_price,\n",
        "    step=10000,\n",
        "    format=\"$%d\"\n",
        ")\n",
        "\n",
        "# Display\n",
        "st.subheader(\"Forecast Result\")\n",
        "col1, col2 = st.columns(2)\n",
        "with col1:\n",
        "    st.metric(\"Last Month\", f\"${lag_price:,.0f}\")\n",
        "with col2:\n",
        "    st.metric(\"Next Month Prediction\", f\"${predicted:,.0f}\", delta=f\"${predicted - lag_price:,.0f}\")\n",
        "\n",
        "st.write(\"Latest Data from Snowflake:\", df)\n",
        "conn.close()"
      ],
      "metadata": {
        "id": "HHPk1fLx5brF"
      },
      "execution_count": null,
      "outputs": []
    },
    {
      "cell_type": "code",
      "source": [
        "!streamlit run app.py & npx localtunnel --port 8501"
      ],
      "metadata": {
        "id": "ulD4L3l55zPD"
      },
      "execution_count": null,
      "outputs": []
    },
    {
      "cell_type": "markdown",
      "source": [],
      "metadata": {
        "id": "kxOyQ6VIMdK9"
      }
    }
  ]
}